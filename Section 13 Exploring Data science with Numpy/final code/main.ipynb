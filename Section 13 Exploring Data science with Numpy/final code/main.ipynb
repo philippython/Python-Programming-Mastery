{
 "cells": [
  {
   "cell_type": "code",
   "execution_count": null,
   "id": "4974176f-d457-4e9a-ad4e-4b8b5468a47e",
   "metadata": {},
   "outputs": [],
   "source": [
    "print(\"Hello world\")"
   ]
  },
  {
   "cell_type": "code",
   "execution_count": null,
   "id": "89d91764-a6ce-430b-8f77-db79fbedd568",
   "metadata": {},
   "outputs": [],
   "source": [
    "section = 13\n",
    "name = \"philip\""
   ]
  },
  {
   "cell_type": "code",
   "execution_count": null,
   "id": "a8be05af-3734-4953-8179-eca43ac2bd23",
   "metadata": {},
   "outputs": [],
   "source": [
    "print(section)"
   ]
  },
  {
   "cell_type": "code",
   "execution_count": null,
   "id": "c3aa1fb9-684d-4750-b2c2-cfd6878b4ea7",
   "metadata": {},
   "outputs": [],
   "source": [
    "import numpy as np"
   ]
  },
  {
   "cell_type": "code",
   "execution_count": null,
   "id": "81c251a8-6486-41a2-9226-9bdd9e7bbfac",
   "metadata": {},
   "outputs": [],
   "source": [
    "# numpy.array()\n",
    "grades = [56, \"philip\", \"chris\" , 53, 12, 96]\n",
    "array = np.array(grades)\n",
    "print(array)\n",
    "print(grades)\n",
    "# print(type(grades))\n",
    "# numpy.shape()\n",
    "# numpy.reshape()\n",
    "# numpy.mean()\n",
    "# numpy.max()\n",
    "# numpy.min()\n",
    "# numpy.sum()\n",
    "# numpy.sort()\n",
    "# numpy.random.radn()\n"
   ]
  },
  {
   "cell_type": "code",
   "execution_count": null,
   "id": "1a5055bc-b292-4647-a13f-7f03d81365ca",
   "metadata": {},
   "outputs": [],
   "source": [
    "# python list slicing\n",
    "names = [\"philip\", \"john\" , \"samson\", \"chris\", \"tobias\", 5, 7, 8 ,9]\n",
    "last_name = names[-1]\n",
    "# list_name[start:end:step]\n",
    "last_three_names = names[1:4:]\n",
    "print(last_name)\n",
    "print(last_three_names)"
   ]
  },
  {
   "cell_type": "code",
   "execution_count": null,
   "id": "3d42750e-d2dd-4446-aa18-368270559bd1",
   "metadata": {},
   "outputs": [],
   "source": [
    "scores = np.array([1, 2, 3, 4, 5]) \n",
    "arr2 = np.array([\n",
    "                 [1, 2, 3], # rows are the horizontal\n",
    "                 [4, 5, 6]\n",
    "                ]) \n",
    "                # 2d array\n",
    "arr3 = np.array([[6, 2], [8, 4], [5, 6]])\n",
    "\n",
    "new_arr = np.array([\"philip\", \"john\" , \"samson\", \"chris\", \"tobias\"])\n",
    "           \n",
    "arr_shape = np.shape(scores)\n",
    "# print(arr_shape)\n",
    "arr_clone = arr2.reshape(3, 2)\n",
    "# print(arr2)\n",
    "# print(arr_clone)\n",
    "# numpy.shape()\n",
    "# numpy.reshape()\n",
    "# numpy.mean()\n",
    "# mean_score = np.mean(new_arr)\n",
    "# print(mean_score)\n",
    "# numpy.max()\n",
    "max_score = np.max(scores)\n",
    "print(max_score)\n",
    "# numpy.min()\n",
    "# numpy.sum()\n",
    "sum_scores = np.sum(scores)\n",
    "print(sum_scores)\n",
    "# numpy.sort()\n",
    "sorted_arr = np.sort(arr3)\n",
    "print(sorted_arr)\n",
    "# numpy.random.radn()\n",
    "rand_int = np.random.randn()\n",
    "print(rand_int)"
   ]
  },
  {
   "cell_type": "code",
   "execution_count": null,
   "id": "09753206-a39d-458f-b2b1-8a2bf97b4c93",
   "metadata": {},
   "outputs": [],
   "source": [
    "from pandas import *"
   ]
  },
  {
   "cell_type": "code",
   "execution_count": 9,
   "id": "25735ace-fcfc-4bf2-98b5-6e4dbc1092ea",
   "metadata": {},
   "outputs": [
    {
     "data": {
      "text/html": [
       "<div>\n",
       "<style scoped>\n",
       "    .dataframe tbody tr th:only-of-type {\n",
       "        vertical-align: middle;\n",
       "    }\n",
       "\n",
       "    .dataframe tbody tr th {\n",
       "        vertical-align: top;\n",
       "    }\n",
       "\n",
       "    .dataframe thead th {\n",
       "        text-align: right;\n",
       "    }\n",
       "</style>\n",
       "<table border=\"1\" class=\"dataframe\">\n",
       "  <thead>\n",
       "    <tr style=\"text-align: right;\">\n",
       "      <th></th>\n",
       "      <th>order_id</th>\n",
       "      <th>order_total</th>\n",
       "    </tr>\n",
       "    <tr>\n",
       "      <th>customer_id</th>\n",
       "      <th></th>\n",
       "      <th></th>\n",
       "    </tr>\n",
       "  </thead>\n",
       "  <tbody>\n",
       "    <tr>\n",
       "      <th>101.0</th>\n",
       "      <td>4</td>\n",
       "      <td>71.0</td>\n",
       "    </tr>\n",
       "    <tr>\n",
       "      <th>102.0</th>\n",
       "      <td>2</td>\n",
       "      <td>0.0</td>\n",
       "    </tr>\n",
       "    <tr>\n",
       "      <th>103.0</th>\n",
       "      <td>4</td>\n",
       "      <td>45.6</td>\n",
       "    </tr>\n",
       "  </tbody>\n",
       "</table>\n",
       "</div>"
      ],
      "text/plain": [
       "             order_id  order_total\n",
       "customer_id                       \n",
       "101.0               4         71.0\n",
       "102.0               2          0.0\n",
       "103.0               4         45.6"
      ]
     },
     "execution_count": 9,
     "metadata": {},
     "output_type": "execute_result"
    }
   ],
   "source": [
    "orders = {\n",
    "    'order_id': [1, 2, 3, 4, 5],\n",
    "    'customer_id': [101, 102, 101, 103, None],\n",
    "    'order_total': [50.20, None, 20.80, 45.60, 55.00]\n",
    "}\n",
    "# dataframe object\n",
    "orders_dataframe = DataFrame(orders)\n",
    "dataset = read_csv(\"cod.csv\")\n",
    "cod_dataframe = DataFrame(dataset)\n",
    "# cod_dataframe.shape\n",
    "orders_dataframe.isnull()\n",
    "orders_dataframe.dropna()\n",
    "orders_dataframe.groupby(\"customer_id\").sum()\n",
    "# isnull method is used to check for empty values\n",
    "# cod_dataframe.isnull()\n",
    "\n",
    "# dropna method is used to delete empty column\n",
    "# cod_dataframe.dropna()\n",
    "# cod_dataframe.head()\n",
    "# cod_dataframe.tail(10)\n",
    "# shape \n",
    "# orders_dataframe.shape\n",
    "# print(orders_dataframe)\n",
    "#  file path"
   ]
  },
  {
   "cell_type": "code",
   "execution_count": 10,
   "id": "0537f74d-0e7e-42cf-baf8-559dca1a7b10",
   "metadata": {},
   "outputs": [
    {
     "name": "stdout",
     "output_type": "stream",
     "text": [
      "1120\n",
      "66935\n",
      "name              COPA#2901463\n",
      "wins                      1741\n",
      "kills                    66935\n",
      "kdRatio               1.417244\n",
      "killstreak                  28\n",
      "level                      344\n",
      "losses                      16\n",
      "prestige                   111\n",
      "hits                    135447\n",
      "timePlayed                4192\n",
      "headshots                11204\n",
      "averageTime           2.809651\n",
      "gamesPlayed               1492\n",
      "assists                  10441\n",
      "misses                  652233\n",
      "xp                    11080512\n",
      "scorePerMinute       203.78416\n",
      "shots                   787680\n",
      "deaths                   47229\n",
      "Name: 1120, dtype: object\n"
     ]
    }
   ],
   "source": [
    "cod_dataframe.head()\n",
    "# accessing individual column\n",
    "cod_dataframe.columns\n",
    "# cod_dataframe[\"prestige\"].tail(20)\n",
    "# max and min method \n",
    "kills_column  = cod_dataframe[\"kills\"]\n",
    "highest_kills = kills_column.max()\n",
    "id_highest_kills = kills_column.idxmax()\n",
    "\n",
    "# loc\n",
    "print(id_highest_kills)\n",
    "print(highest_kills)\n",
    "highest_kills_row = cod_dataframe.loc[id_highest_kills]\n",
    "print(highest_kills_row)\n",
    "# idxmax and idxmin \n",
    "# insert column\n",
    "# sort_values \n",
    "# groupby"
   ]
  },
  {
   "cell_type": "code",
   "execution_count": 11,
   "id": "5d6dd345-e0c4-44b6-81b3-eb4d37cf1c18",
   "metadata": {},
   "outputs": [
    {
     "name": "stdout",
     "output_type": "stream",
     "text": [
      "0\n"
     ]
    }
   ],
   "source": [
    "# multiple colums in dataset\n",
    "cod_dataframe[[\"kills\", \"shots\", \"wins\"]].head()\n",
    "\n",
    "least_wins = cod_dataframe[\"wins\"].min()\n",
    "id_least_wins = cod_dataframe[\"wins\"].idxmin()\n",
    "print(id_least_wins)"
   ]
  },
  {
   "cell_type": "code",
   "execution_count": 13,
   "id": "ee6ba593-a54e-489d-b72e-5a3d050198b0",
   "metadata": {},
   "outputs": [
    {
     "data": {
      "text/plain": [
       "(1558, 20)"
      ]
     },
     "execution_count": 13,
     "metadata": {},
     "output_type": "execute_result"
    }
   ],
   "source": [
    "\n",
    "head_to_head = cod_dataframe[\"wins\"] - cod_dataframe[\"losses\"]\n",
    "\n",
    "cod_dataframe.insert(10 , \"loses_to_wins\", head_to_head)\n",
    "cod_dataframe[\"loses_to_wins\"].head(20)\n",
    "cod_dataframe.head(20)\n",
    "cod_dataframe.shape"
   ]
  },
  {
   "cell_type": "code",
   "execution_count": 14,
   "id": "81ec1481-a65b-4a92-b0ff-6733ab359620",
   "metadata": {
    "tags": []
   },
   "outputs": [
    {
     "data": {
      "text/html": [
       "<div>\n",
       "<style scoped>\n",
       "    .dataframe tbody tr th:only-of-type {\n",
       "        vertical-align: middle;\n",
       "    }\n",
       "\n",
       "    .dataframe tbody tr th {\n",
       "        vertical-align: top;\n",
       "    }\n",
       "\n",
       "    .dataframe thead th {\n",
       "        text-align: right;\n",
       "    }\n",
       "</style>\n",
       "<table border=\"1\" class=\"dataframe\">\n",
       "  <thead>\n",
       "    <tr style=\"text-align: right;\">\n",
       "      <th></th>\n",
       "      <th>Game</th>\n",
       "      <th>Year</th>\n",
       "      <th>Hours_watched</th>\n",
       "      <th>Hours_streamed</th>\n",
       "    </tr>\n",
       "  </thead>\n",
       "  <tbody>\n",
       "    <tr>\n",
       "      <th>10403</th>\n",
       "      <td>Fortnite</td>\n",
       "      <td>2020</td>\n",
       "      <td>122842189</td>\n",
       "      <td>10245704</td>\n",
       "    </tr>\n",
       "    <tr>\n",
       "      <th>7200</th>\n",
       "      <td>Fortnite</td>\n",
       "      <td>2019</td>\n",
       "      <td>126502656</td>\n",
       "      <td>10205058</td>\n",
       "    </tr>\n",
       "    <tr>\n",
       "      <th>10602</th>\n",
       "      <td>Fortnite</td>\n",
       "      <td>2020</td>\n",
       "      <td>111733315</td>\n",
       "      <td>9686644</td>\n",
       "    </tr>\n",
       "    <tr>\n",
       "      <th>7000</th>\n",
       "      <td>Fortnite</td>\n",
       "      <td>2018</td>\n",
       "      <td>118143183</td>\n",
       "      <td>9027163</td>\n",
       "    </tr>\n",
       "    <tr>\n",
       "      <th>10802</th>\n",
       "      <td>Fortnite</td>\n",
       "      <td>2020</td>\n",
       "      <td>105305814</td>\n",
       "      <td>8882333</td>\n",
       "    </tr>\n",
       "    <tr>\n",
       "      <th>...</th>\n",
       "      <td>...</td>\n",
       "      <td>...</td>\n",
       "      <td>...</td>\n",
       "      <td>...</td>\n",
       "    </tr>\n",
       "    <tr>\n",
       "      <th>990</th>\n",
       "      <td>Barbie and The Magic of Pegasus</td>\n",
       "      <td>2016</td>\n",
       "      <td>97298</td>\n",
       "      <td>27</td>\n",
       "    </tr>\n",
       "    <tr>\n",
       "      <th>167</th>\n",
       "      <td>Super Monkey Ball: Banana Blitz</td>\n",
       "      <td>2016</td>\n",
       "      <td>200365</td>\n",
       "      <td>27</td>\n",
       "    </tr>\n",
       "    <tr>\n",
       "      <th>6190</th>\n",
       "      <td>Home Run Derby VR</td>\n",
       "      <td>2018</td>\n",
       "      <td>269577</td>\n",
       "      <td>25</td>\n",
       "    </tr>\n",
       "    <tr>\n",
       "      <th>2597</th>\n",
       "      <td>Sparkster</td>\n",
       "      <td>2017</td>\n",
       "      <td>217692</td>\n",
       "      <td>19</td>\n",
       "    </tr>\n",
       "    <tr>\n",
       "      <th>195</th>\n",
       "      <td>Brain Age: Train Your Brain in Minutes a Day!</td>\n",
       "      <td>2016</td>\n",
       "      <td>173011</td>\n",
       "      <td>19</td>\n",
       "    </tr>\n",
       "  </tbody>\n",
       "</table>\n",
       "<p>17400 rows × 4 columns</p>\n",
       "</div>"
      ],
      "text/plain": [
       "                                                Game  Year  Hours_watched  \\\n",
       "10403                                       Fortnite  2020      122842189   \n",
       "7200                                        Fortnite  2019      126502656   \n",
       "10602                                       Fortnite  2020      111733315   \n",
       "7000                                        Fortnite  2018      118143183   \n",
       "10802                                       Fortnite  2020      105305814   \n",
       "...                                              ...   ...            ...   \n",
       "990                  Barbie and The Magic of Pegasus  2016          97298   \n",
       "167                  Super Monkey Ball: Banana Blitz  2016         200365   \n",
       "6190                               Home Run Derby VR  2018         269577   \n",
       "2597                                       Sparkster  2017         217692   \n",
       "195    Brain Age: Train Your Brain in Minutes a Day!  2016         173011   \n",
       "\n",
       "       Hours_streamed  \n",
       "10403        10245704  \n",
       "7200         10205058  \n",
       "10602         9686644  \n",
       "7000          9027163  \n",
       "10802         8882333  \n",
       "...               ...  \n",
       "990                27  \n",
       "167                27  \n",
       "6190               25  \n",
       "2597               19  \n",
       "195                19  \n",
       "\n",
       "[17400 rows x 4 columns]"
      ]
     },
     "execution_count": 14,
     "metadata": {},
     "output_type": "execute_result"
    }
   ],
   "source": [
    "game_data = read_csv(\"game_data.csv\", encoding= \"cp1252\")\n",
    "game_dataframe = DataFrame(game_data)\n",
    "game_dataframe.head(10)\n",
    "\n",
    "game_dataframe[[\"Game\", \"Year\", \"Hours_watched\", \"Hours_streamed\"]].sort_values(by=\"Hours_streamed\", ascending=False)\n",
    "# groupby_years = game_dataframe.groupby(\"Year\").sum()\n",
    "# id_highest_year_stream =groupby_years[\"Hours_streamed\"].idxmax()\n",
    "# year_with_highest_stream = groupby_years.loc[id_highest_year_stream]\n",
    "# print(year_with_highest_stream)\n",
    "# most_streamed_id = game_dataframe[\"Hours_streamed\"].idxmax()\n",
    "# most_stream_game = game_dataframe.loc[most_streamed_id]\n",
    "# print(most_stream_game)"
   ]
  },
  {
   "cell_type": "code",
   "execution_count": 15,
   "id": "b736ade9-ff67-4e5a-9701-3b0a28b5d45b",
   "metadata": {},
   "outputs": [],
   "source": [
    "import matplotlib.pyplot as plt\n"
   ]
  },
  {
   "cell_type": "code",
   "execution_count": 16,
   "id": "a9c1d6be-279e-46bc-be38-323436610995",
   "metadata": {},
   "outputs": [
    {
     "data": {
      "image/png": "[encoded data removed]",
      "text/plain": [
       "<Figure size 640x480 with 1 Axes>"
      ]
     },
     "metadata": {},
     "output_type": "display_data"
    }
   ],
   "source": [
    "x = [1, 2, 3, 4, 5]\n",
    "y = [1, 4, 9, 16, 25]\n",
    "\n",
    "# creating line chart\n",
    "plt.plot(x, y)\n",
    "# plt.plot()\n",
    "plt.show()\n",
    "# plt.bar()\n",
    "# plt.hist()\n",
    "# plt.pie()\n",
    "\n"
   ]
  },
  {
   "cell_type": "code",
   "execution_count": 17,
   "id": "569069f5-2251-4de0-9464-3acb16330736",
   "metadata": {},
   "outputs": [
    {
     "data": {
      "image/png": "[encoded data removed]",
      "text/plain": [
       "<Figure size 640x480 with 1 Axes>"
      ]
     },
     "metadata": {},
     "output_type": "display_data"
    }
   ],
   "source": [
    "plt.scatter(x, y)\n",
    "plt.show()"
   ]
  },
  {
   "cell_type": "code",
   "execution_count": 18,
   "id": "e2eeb07a-426a-4728-87b6-ca3bb3102396",
   "metadata": {},
   "outputs": [
    {
     "data": {
      "image/png": "[encoded data removed]",
      "text/plain": [
       "<Figure size 640x480 with 1 Axes>"
      ]
     },
     "metadata": {},
     "output_type": "display_data"
    }
   ],
   "source": [
    "# creating bar charts\n",
    "plt.bar(x, y)\n",
    "plt.show()"
   ]
  },
  {
   "cell_type": "code",
   "execution_count": 19,
   "id": "002f6466-0419-4366-901e-fb789566b715",
   "metadata": {},
   "outputs": [
    {
     "data": {
      "image/png": "[encoded data removed]",
      "text/plain": [
       "<Figure size 640x480 with 1 Axes>"
      ]
     },
     "metadata": {},
     "output_type": "display_data"
    }
   ],
   "source": [
    "# creating histogram\n",
    "plt.hist(x, y)\n",
    "plt.show()"
   ]
  },
  {
   "cell_type": "code",
   "execution_count": null,
   "id": "1c06d935-6bcf-4c45-9bb6-bc55689465bc",
   "metadata": {},
   "outputs": [
    {
     "data": {
      "image/png": "[encoded data removed]",
      "text/plain": [
       "<Figure size 640x480 with 1 Axes>"
      ]
     },
     "metadata": {},
     "output_type": "display_data"
    }
   ],
   "source": [
    "Z = np.random.uniform(8, 10, 2)\n",
    "Pie = (6, 7, 4, 6)\n",
    "plt.pie(Pie)\n",
    "plt.show()"
   ]
  },
  {
   "cell_type": "code",
   "execution_count": 71,
   "id": "61dc5003-1bb4-422a-8583-c167ac1b6bd7",
   "metadata": {},
   "outputs": [
    {
     "data": {
      "image/png": "[encoded data removed]",
      "text/plain": [
       "<Figure size 640x480 with 1 Axes>"
      ]
     },
     "metadata": {},
     "output_type": "display_data"
    }
   ],
   "source": [
    "z = [1, 8, 27, 64, 125]\n",
    "plt.figure(figsize=(8, 6), dpi=80, facecolor=\"#a2d2ff\")\n",
    "plt.title(\"A chart of numbers and squares of the numbers\")\n",
    "plt.xticks(fontsize=12)\n",
    "plt.yticks(fontsize=12)\n",
    "# plt.ylim(-25, 30)\n",
    "plt.xlabel(\"numbers\")\n",
    "plt.ylabel(\"squares\")\n",
    "plt.plot(x, z, label=\"cubes\")\n",
    "plt.plot(x, y, label=\"squares\")\n",
    "plt.legend(loc=\"upper left\", frameon=True, facecolor=\"#dc2f02\")\n",
    "plt.show()\n",
    "\n",
    "\n"
   ]
  },
  {
   "cell_type": "code",
   "execution_count": null,
   "id": "68ec67bd-3286-45aa-9d3b-e24ebddba720",
   "metadata": {},
   "outputs": [],
   "source": []
  }
 ],
 "metadata": {
  "kernelspec": {
   "display_name": "Python 3 (ipykernel)",
   "language": "python",
   "name": "python3"
  },
  "language_info": {
   "codemirror_mode": {
    "name": "ipython",
    "version": 3
   },
   "file_extension": ".py",
   "mimetype": "text/x-python",
   "name": "python",
   "nbconvert_exporter": "python",
   "pygments_lexer": "ipython3",
   "version": "3.9.13"
  }
 },
 "nbformat": 4,
 "nbformat_minor": 5
}
