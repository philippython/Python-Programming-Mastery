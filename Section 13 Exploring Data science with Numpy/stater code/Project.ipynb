{
 "cells": [
  {
   "cell_type": "code",
   "execution_count": 1,
   "id": "fc17aeb7-7e23-410b-963b-1181d2871cce",
   "metadata": {},
   "outputs": [],
   "source": [
    "# Task 1: Load the dataset into a Pandas DataFrame and examine the first few rows.\n",
    "# Task 2: Check the dimensions of the dataset (number of rows and columns).\n",
    "# Task 3: Identify and handle missing values in the dataset.\n",
    "# Task 4: Analyze the distribution of gun violence incidents over the years using a line plot.\n",
    "# Task 5: Calculate the total number of fatalities and injuries caused by mass shootings.\n",
    "# Task 6: Visualize the top 10 states with the highest number of incidents using a bar chart.\n",
    "# Task 7: Determine the most common locations where mass shootings occur.\n",
    "# Task 8: Calculate the average number of fatalities and injuries per incident.\n",
    "# Task 9: Explore the relationship between the number of fatalities and the number of injured people using a scatter plot.\n",
    "# Task 10: Analyze the trend of incidents based on the shooter's gender using a pie chart.\n",
    "\n"
   ]
  },
  {
   "cell_type": "code",
   "execution_count": null,
   "id": "75cc363a-691c-4740-a0a9-ac6308a6890f",
   "metadata": {},
   "outputs": [],
   "source": []
  }
 ],
 "metadata": {
  "kernelspec": {
   "display_name": "Python 3 (ipykernel)",
   "language": "python",
   "name": "python3"
  },
  "language_info": {
   "codemirror_mode": {
    "name": "ipython",
    "version": 3
   },
   "file_extension": ".py",
   "mimetype": "text/x-python",
   "name": "python",
   "nbconvert_exporter": "python",
   "pygments_lexer": "ipython3",
   "version": "3.9.13"
  }
 },
 "nbformat": 4,
 "nbformat_minor": 5
}
